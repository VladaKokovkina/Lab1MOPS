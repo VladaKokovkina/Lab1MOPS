{
 "cells": [
  {
   "cell_type": "markdown",
   "metadata": {},
   "source": [
    "# Лабораторная работа 1\n",
    "## Неклюдов Борис 165"
   ]
  },
  {
   "cell_type": "code",
   "execution_count": 3,
   "metadata": {},
   "outputs": [],
   "source": [
    "import sympy as sp"
   ]
  },
  {
   "cell_type": "code",
   "execution_count": 4,
   "metadata": {},
   "outputs": [],
   "source": [
    "a, b, c, d, k, x, y = sp.symbols(\"a, b, c, d, k, x, y\")"
   ]
  },
  {
   "cell_type": "code",
   "execution_count": 5,
   "metadata": {},
   "outputs": [],
   "source": [
    "f = a*x - k*x**2 - b*x*y\n",
    "g = c*x*y - d*y"
   ]
  },
  {
   "cell_type": "markdown",
   "metadata": {},
   "source": [
    " Первое уравнение"
   ]
  },
  {
   "cell_type": "code",
   "execution_count": 6,
   "metadata": {},
   "outputs": [
    {
     "data": {
      "text/latex": [
       "$\\displaystyle a x - b x y - k x^{2}$"
      ],
      "text/plain": [
       "a*x - b*x*y - k*x**2"
      ]
     },
     "execution_count": 6,
     "metadata": {},
     "output_type": "execute_result"
    }
   ],
   "source": [
    "f"
   ]
  },
  {
   "cell_type": "markdown",
   "metadata": {},
   "source": [
    "Второе уравнение"
   ]
  },
  {
   "cell_type": "code",
   "execution_count": 7,
   "metadata": {},
   "outputs": [
    {
     "data": {
      "text/latex": [
       "$\\displaystyle c x y - d y$"
      ],
      "text/plain": [
       "c*x*y - d*y"
      ]
     },
     "execution_count": 7,
     "metadata": {},
     "output_type": "execute_result"
    }
   ],
   "source": [
    "g"
   ]
  },
  {
   "cell_type": "code",
   "execution_count": 8,
   "metadata": {},
   "outputs": [
    {
     "data": {
      "text/plain": [
       "[(0, 0), (a/k, 0), (d/c, (a*c - d*k)/(b*c))]"
      ]
     },
     "execution_count": 8,
     "metadata": {},
     "output_type": "execute_result"
    }
   ],
   "source": [
    "eq_points = sp.solve([f,g], [x,y])\n",
    "eq_points"
   ]
  },
  {
   "cell_type": "markdown",
   "metadata": {},
   "source": [
    "Три точки равновесия: (0;0), (a/k, 0), (d/c, $(a*c - d*k)\\over (b*c)$). \n",
    "# Проверим их тип    \n",
    "Первая точка (0;0)"
   ]
  },
  {
   "cell_type": "code",
   "execution_count": 10,
   "metadata": {},
   "outputs": [],
   "source": [
    "L11 = sp.diff(f,x).subs(zip((x,y), eq_points[0]))\n",
    "L12 = sp.diff(f,y).subs(zip((x,y), eq_points[0]))\n",
    "L21 = sp.diff(g,x).subs(zip((x,y), eq_points[0]))\n",
    "L22 = sp.diff(g,y).subs(zip((x,y), eq_points[0]))"
   ]
  },
  {
   "cell_type": "code",
   "execution_count": 11,
   "metadata": {},
   "outputs": [
    {
     "data": {
      "text/latex": [
       "$\\displaystyle \\left[\\begin{matrix}a & 0\\\\0 & - d\\end{matrix}\\right]$"
      ],
      "text/plain": [
       "Matrix([\n",
       "[a,  0],\n",
       "[0, -d]])"
      ]
     },
     "execution_count": 11,
     "metadata": {},
     "output_type": "execute_result"
    }
   ],
   "source": [
    "L = sp.Matrix([[L11, L12], [L21,L22]])\n",
    "L"
   ]
  },
  {
   "cell_type": "code",
   "execution_count": 12,
   "metadata": {},
   "outputs": [
    {
     "data": {
      "text/plain": [
       "{a: 1, -d: 1}"
      ]
     },
     "execution_count": 12,
     "metadata": {},
     "output_type": "execute_result"
    }
   ],
   "source": [
    "L.eigenvals()"
   ]
  },
  {
   "cell_type": "markdown",
   "metadata": {},
   "source": [
    "Вывод по первой точке:  \n",
    "действительные значения разных знаков, поэтому *седло*, то есть **неустойчивое** равновесие    \n",
    "Вторая точка (а/к; 0)"
   ]
  },
  {
   "cell_type": "code",
   "execution_count": 13,
   "metadata": {},
   "outputs": [
    {
     "data": {
      "text/latex": [
       "$\\displaystyle \\left[\\begin{matrix}- a & - \\frac{a b}{k}\\\\0 & \\frac{a c}{k} - d\\end{matrix}\\right]$"
      ],
      "text/plain": [
       "Matrix([\n",
       "[-a,    -a*b/k],\n",
       "[ 0, a*c/k - d]])"
      ]
     },
     "execution_count": 13,
     "metadata": {},
     "output_type": "execute_result"
    }
   ],
   "source": [
    "L11 = sp.diff(f,x).subs(zip((x,y), eq_points[1]))\n",
    "L12 = sp.diff(f,y).subs(zip((x,y), eq_points[1]))\n",
    "L21 = sp.diff(g,x).subs(zip((x,y), eq_points[1]))\n",
    "L22 = sp.diff(g,y).subs(zip((x,y), eq_points[1]))\n",
    "L = sp.Matrix([[L11, L12], [L21,L22]])\n",
    "L"
   ]
  },
  {
   "cell_type": "code",
   "execution_count": 14,
   "metadata": {},
   "outputs": [
    {
     "data": {
      "text/plain": [
       "{-a: 1, a*c/k - d: 1}"
      ]
     },
     "execution_count": 14,
     "metadata": {},
     "output_type": "execute_result"
    }
   ],
   "source": [
    "L.eigenvals()"
   ]
  },
  {
   "cell_type": "markdown",
   "metadata": {},
   "source": [
    "Вывод по второй точке:  \n",
    "если $ {a*c\\over k} > d $, то действительные значения разных знаков, поэтому *седло*, то есть **неустойчивое** равновесие;    \n",
    "если $ {a*c\\over k} < d $, то действительные значения отрицательные, поэтому **устойчивый** *узел*  \n",
    "Третья точка (d/c, $(a*c - d*k)\\over (b*c)$)\n"
   ]
  },
  {
   "cell_type": "code",
   "execution_count": 15,
   "metadata": {},
   "outputs": [
    {
     "data": {
      "text/latex": [
       "$\\displaystyle \\left[\\begin{matrix}a - \\frac{2 d k}{c} - \\frac{a c - d k}{c} & - \\frac{b d}{c}\\\\\\frac{a c - d k}{b} & 0\\end{matrix}\\right]$"
      ],
      "text/plain": [
       "Matrix([\n",
       "[a - 2*d*k/c - (a*c - d*k)/c, -b*d/c],\n",
       "[              (a*c - d*k)/b,      0]])"
      ]
     },
     "execution_count": 15,
     "metadata": {},
     "output_type": "execute_result"
    }
   ],
   "source": [
    "L11 = sp.diff(f,x).subs(zip((x,y), eq_points[2]))\n",
    "L12 = sp.diff(f,y).subs(zip((x,y), eq_points[2]))\n",
    "L21 = sp.diff(g,x).subs(zip((x,y), eq_points[2]))\n",
    "L22 = sp.diff(g,y).subs(zip((x,y), eq_points[2]))\n",
    "L = sp.Matrix([[L11, L12], [L21,L22]])\n",
    "L"
   ]
  },
  {
   "cell_type": "code",
   "execution_count": 16,
   "metadata": {},
   "outputs": [
    {
     "data": {
      "text/plain": [
       "{-d*k/(2*c) - sqrt(-d*(4*a*c**2 - 4*c*d*k - d*k**2))/(2*c): 1,\n",
       " -d*k/(2*c) + sqrt(-d*(4*a*c**2 - 4*c*d*k - d*k**2))/(2*c): 1}"
      ]
     },
     "execution_count": 16,
     "metadata": {},
     "output_type": "execute_result"
    }
   ],
   "source": [
    "L.eigenvals()"
   ]
  },
  {
   "cell_type": "markdown",
   "metadata": {},
   "source": [
    "Вывод по третьей точке:  \n",
    "если собственные значения комлпексны, то у них одинаковая *отрицательная* реальная частью, поэтому **устойчивый** *фокус*  \n",
    "если реальные, то при разных знаках действительных корней будет *седло*, а при одинаковых – узел (положительные – неустойчивый, отрицательный – устойчивый)\n",
    "# Фазовые портреты"
   ]
  },
  {
   "cell_type": "code",
   "execution_count": 17,
   "metadata": {},
   "outputs": [],
   "source": [
    "py_f = sp.lambdify((x,y), f.subs([(a,3), (b,0.6), (k, 0.2)]))\n",
    "py_g = sp.lambdify((x,y), g.subs([(c,0.2), (d,2)]))"
   ]
  },
  {
   "cell_type": "code",
   "execution_count": 18,
   "metadata": {},
   "outputs": [],
   "source": [
    "import numpy as np\n",
    "import matplotlib.pyplot as plt"
   ]
  },
  {
   "cell_type": "code",
   "execution_count": 28,
   "metadata": {},
   "outputs": [],
   "source": [
    "X= np.arange(-3,20,1)\n",
    "Y = np.arange(-3,9,1)"
   ]
  },
  {
   "cell_type": "code",
   "execution_count": 29,
   "metadata": {},
   "outputs": [],
   "source": [
    "X, Y = np.meshgrid(X,Y)"
   ]
  },
  {
   "cell_type": "code",
   "execution_count": 30,
   "metadata": {},
   "outputs": [
    {
     "data": {
      "image/png": "[encoded data removed]",
      "text/plain": [
       "<Figure size 432x288 with 1 Axes>"
      ]
     },
     "metadata": {
      "needs_background": "light"
     },
     "output_type": "display_data"
    }
   ],
   "source": [
    "U = py_f(X,Y)\n",
    "V = py_g(X,Y)\n",
    "\n",
    "fig, ax = plt.subplots()\n",
    "q= ax.quiver(X,Y,U,V)\n",
    "\n",
    "plt.show()"
   ]
  },
  {
   "cell_type": "markdown",
   "metadata": {},
   "source": [
    "На графике видно, что точка (0;0) неустойчивое равновесие, а точнее седло  \n",
    "Вторая точка (15; 0) это также седло (внизу видно изменение направления), то есть неустойчивое равновесие при таких условиях, так как $ {a*c\\over k} > d $  \n",
    "Третья точка (10; 5/3) это устойчивый фокус"
   ]
  },
  {
   "cell_type": "code",
   "execution_count": null,
   "metadata": {},
   "outputs": [],
   "source": []
  }
 ],
 "metadata": {
  "kernelspec": {
   "display_name": "Python 3",
   "language": "python",
   "name": "python3"
  },
  "language_info": {
   "codemirror_mode": {
    "name": "ipython",
    "version": 3
   },
   "file_extension": ".py",
   "mimetype": "text/x-python",
   "name": "python",
   "nbconvert_exporter": "python",
   "pygments_lexer": "ipython3",
   "version": "3.7.3"
  }
 },
 "nbformat": 4,
 "nbformat_minor": 2
}
